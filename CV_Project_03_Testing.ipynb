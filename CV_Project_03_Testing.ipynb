{
 "cells": [
  {
   "cell_type": "markdown",
   "id": "1ff1484c",
   "metadata": {},
   "source": [
    "## Computer Vision\n",
    "\n",
    "# Project 03\n",
    "\n",
    "### Testing"
   ]
  },
  {
   "cell_type": "markdown",
   "id": "addb3bd3",
   "metadata": {},
   "source": [
    "#### Import libraries"
   ]
  },
  {
   "cell_type": "code",
   "execution_count": 2,
   "id": "f5447575",
   "metadata": {},
   "outputs": [],
   "source": [
    "import cv2\n",
    "import keras\n",
    "import numpy as np\n",
    "import pandas as pd\n",
    "import cv2 as cv\n",
    "import matplotlib.pyplot as plt\n",
    "import matplotlib.animation as animation"
   ]
  },
  {
   "cell_type": "markdown",
   "id": "57503c85",
   "metadata": {},
   "source": [
    "#### Read dataset"
   ]
  },
  {
   "cell_type": "code",
   "execution_count": 3,
   "id": "1ea439ad",
   "metadata": {},
   "outputs": [],
   "source": [
    "def read_csv(dataset_type,i):\n",
    "    n = \"\"\n",
    "    if i < 10:\n",
    "        n = \"0\" + str(i)\n",
    "    else:\n",
    "        n = str(i)\n",
    "    to_home = '../../../../'\n",
    "    dataset_path = 'Multimedia/Datasets/Human Actions/Dataset/'\n",
    "    file_path = 'Video_' + n + '/Video_' + n + '_' + dataset_type + '.csv'\n",
    "    dataset_info_file = to_home + dataset_path + file_path\n",
    "    df = pd.read_csv(dataset_info_file)\n",
    "    return df\n",
    "    \n",
    "def create_datasets(dataset_type,test_video):\n",
    "    df = pd.DataFrame()\n",
    "    df = df.append(read_csv(dataset_type,test_video))\n",
    "    return df"
   ]
  },
  {
   "cell_type": "code",
   "execution_count": 4,
   "id": "7d7aa3ad",
   "metadata": {},
   "outputs": [],
   "source": [
    "dataset_type = 'gray'\n",
    "test_video = 6\n",
    "df_test = create_datasets(dataset_type,test_video)"
   ]
  },
  {
   "cell_type": "markdown",
   "id": "5d09210c",
   "metadata": {},
   "source": [
    "#### Load images"
   ]
  },
  {
   "cell_type": "code",
   "execution_count": 5,
   "id": "8e358370",
   "metadata": {},
   "outputs": [],
   "source": [
    "def func(df):\n",
    "    path_to_folder = '../../../../Multimedia/Datasets/Human Actions/'\n",
    "    X = []\n",
    "    for i, filename in enumerate(df['Image path']):\n",
    "        image = cv.imread(path_to_folder+filename)\n",
    "        X.append(image)\n",
    "    X = np.array(X)\n",
    "    X = X.astype('float32')\n",
    "    X = X/255\n",
    "    \n",
    "    total_samples,rows,columns,channels = X.shape\n",
    "    print('total samples:',total_samples)\n",
    "    \n",
    "    timestep = 10\n",
    "    samples = round(total_samples/timestep)\n",
    "\n",
    "    X_ = np.zeros((samples,timestep,rows,columns,channels))\n",
    "    \n",
    "    print('samples:      ',samples)\n",
    "    print('timestep:     ',timestep)\n",
    "    print('rows:         ',rows)\n",
    "    print('columns:      ',columns)\n",
    "    print('channels:     ',channels)\n",
    "    print('')\n",
    "\n",
    "    violence_threshold = 1\n",
    "    k = 0\n",
    "    for i in range(samples):\n",
    "        l = 0\n",
    "        for j in range(timestep):\n",
    "            if k < total_samples:\n",
    "                X_[i,j,:,:,:] = X[k,:,:,:]\n",
    "                k += 1\n",
    "    return X_"
   ]
  },
  {
   "cell_type": "code",
   "execution_count": 6,
   "id": "c3286035",
   "metadata": {},
   "outputs": [
    {
     "name": "stdout",
     "output_type": "stream",
     "text": [
      "Test set\n",
      "total samples: 1434\n",
      "samples:       143\n",
      "timestep:      10\n",
      "rows:          108\n",
      "columns:       192\n",
      "channels:      3\n",
      "\n"
     ]
    }
   ],
   "source": [
    "print('Test set')\n",
    "X_test = func(df_test)"
   ]
  },
  {
   "cell_type": "markdown",
   "id": "edfbd3a6",
   "metadata": {},
   "source": [
    "#### Load model"
   ]
  },
  {
   "cell_type": "code",
   "execution_count": 8,
   "id": "1d23e720",
   "metadata": {},
   "outputs": [
    {
     "name": "stdout",
     "output_type": "stream",
     "text": [
      "[0 0 0 0 0 0 0 0 0 0 0 0 0 0 0 0 0 0 0 0 0 0 0 0 0 0 0 1 1 1 0 0 1 1 1 1 0\n",
      " 0 0 0 0 0 0 0 0 0 0 0 0 0 0 0 0 0 0 0 0 0 0 0 0 0 0 0 0 0 0 0 0 1 0 1 1 1\n",
      " 1 1 1 1 1 1 1 1 1 1 1 1 1 1 1 0 0 0 0 0 0 1 1 0 0 1 0 0 0 0 0 0 0 1 0 0 0\n",
      " 0 1 0 0 0 0 0 0 0 0 0 0 0 0 1 0 0 0 0 0 0 0 0 0 0 0 0 0 0 0 0 0]\n"
     ]
    }
   ],
   "source": [
    "model = keras.models.load_model(\"CNN_LSTM.h5\")\n",
    "pred = model.predict(X_test)\n",
    "pred = np.argmax(pred,axis = 1)\n",
    "print(pred)"
   ]
  },
  {
   "cell_type": "code",
   "execution_count": 9,
   "id": "dfe23b83",
   "metadata": {},
   "outputs": [],
   "source": [
    "dataset_type_GoDec = 'godec'\n",
    "test_video_GoDec = 6\n",
    "df_test_GoDec = create_datasets(dataset_type_GoDec,test_video_GoDec)"
   ]
  },
  {
   "cell_type": "code",
   "execution_count": 10,
   "id": "4bd6ddc6",
   "metadata": {},
   "outputs": [
    {
     "name": "stdout",
     "output_type": "stream",
     "text": [
      "Test set\n",
      "total samples: 1434\n",
      "samples:       143\n",
      "timestep:      10\n",
      "rows:          108\n",
      "columns:       192\n",
      "channels:      3\n",
      "\n"
     ]
    }
   ],
   "source": [
    "print('Test set')\n",
    "X_test_GoDec = func(df_test_GoDec)"
   ]
  },
  {
   "cell_type": "code",
   "execution_count": 11,
   "id": "ac6ef36f",
   "metadata": {},
   "outputs": [
    {
     "name": "stdout",
     "output_type": "stream",
     "text": [
      "[0 0 0 0 0 0 0 0 0 0 0 0 0 0 0 0 0 0 0 0 0 0 0 0 0 0 0 1 1 1 1 0 1 1 1 1 0\n",
      " 0 0 0 0 0 0 0 0 0 0 0 0 0 0 0 0 0 1 0 0 0 0 0 0 0 0 1 0 0 0 0 0 0 0 1 1 1\n",
      " 1 1 1 1 0 1 1 1 1 1 1 0 1 1 1 0 0 0 0 0 0 1 0 0 1 1 0 0 0 1 1 0 0 1 0 0 0\n",
      " 0 0 0 0 0 0 0 0 0 0 0 0 0 0 0 0 0 0 0 1 1 1 0 0 0 0 0 0 0 0 0 0]\n"
     ]
    }
   ],
   "source": [
    "model = keras.models.load_model(\"CNN_LSTM_GoDec.h5\")\n",
    "pred_GoDec = model.predict(X_test_GoDec)\n",
    "pred_GoDec = np.argmax(pred_GoDec,axis = 1)\n",
    "print(pred_GoDec)"
   ]
  },
  {
   "cell_type": "markdown",
   "id": "41e6151e",
   "metadata": {},
   "source": [
    "#### Show results"
   ]
  },
  {
   "cell_type": "markdown",
   "id": "7a483b17",
   "metadata": {},
   "source": [
    "Create a video of the results."
   ]
  },
  {
   "cell_type": "code",
   "execution_count": 12,
   "id": "19df3eeb",
   "metadata": {},
   "outputs": [
    {
     "data": {
      "image/png": "[encoded data removed]",
      "text/plain": [
       "<Figure size 432x288 with 1 Axes>"
      ]
     },
     "metadata": {
      "needs_background": "light"
     },
     "output_type": "display_data"
    }
   ],
   "source": [
    "samples,timestep,rows,columns,channels = X_test.shape\n",
    "fig = plt.figure()\n",
    "MP4 = []\n",
    "for i in range(samples):\n",
    "    for j in range(timestep):\n",
    "        image = X_test[i,j,:,:,:]\n",
    "        image = (image*255).astype(np.uint8)\n",
    "        image_GoDec = X_test_GoDec[i,j,:,:,:]\n",
    "        image_GoDec = (image_GoDec*255).astype(np.uint8)\n",
    "        if pred[i] == 1:\n",
    "            image = cv2.putText(image,'Violence',(100,20),cv2.FONT_HERSHEY_SIMPLEX,0.3,(255,0,0),0,cv2.LINE_AA)\n",
    "        if pred_GoDec[i] == 1:\n",
    "            image_GoDec = cv2.putText(image_GoDec,'Violence',(100,20),cv2.FONT_HERSHEY_SIMPLEX,0.3,(255,0,0),0,cv2.LINE_AA)\n",
    "        n_img = cv.hconcat([image,image_GoDec])\n",
    "        v = plt.imshow(n_img,cmap='gray',animated=True)\n",
    "        MP4.append([v])\n",
    "ani = animation.ArtistAnimation(fig,MP4,interval=50,blit=True,repeat_delay=1000)\n",
    "ani.save('Results.mp4')\n",
    "plt.show()"
   ]
  },
  {
   "cell_type": "markdown",
   "id": "27ec49a3",
   "metadata": {},
   "source": [
    "Display the results."
   ]
  },
  {
   "cell_type": "code",
   "execution_count": 13,
   "id": "3da94041",
   "metadata": {},
   "outputs": [
    {
     "data": {
      "text/html": [
       "<video src=\"Results.mp4\" controls  >\n",
       "      Your browser does not support the <code>video</code> element.\n",
       "    </video>"
      ],
      "text/plain": [
       "<IPython.core.display.Video object>"
      ]
     },
     "execution_count": 13,
     "metadata": {},
     "output_type": "execute_result"
    }
   ],
   "source": [
    "from IPython.display import Video\n",
    "Video(\"Results.mp4\")"
   ]
  },
  {
   "cell_type": "code",
   "execution_count": null,
   "id": "1b168e01",
   "metadata": {},
   "outputs": [],
   "source": []
  },
  {
   "cell_type": "code",
   "execution_count": null,
   "id": "df033ecc",
   "metadata": {},
   "outputs": [],
   "source": []
  }
 ],
 "metadata": {
  "kernelspec": {
   "display_name": "Python 3 (ipykernel)",
   "language": "python",
   "name": "python3"
  },
  "language_info": {
   "codemirror_mode": {
    "name": "ipython",
    "version": 3
   },
   "file_extension": ".py",
   "mimetype": "text/x-python",
   "name": "python",
   "nbconvert_exporter": "python",
   "pygments_lexer": "ipython3",
   "version": "3.9.7"
  }
 },
 "nbformat": 4,
 "nbformat_minor": 5
}
