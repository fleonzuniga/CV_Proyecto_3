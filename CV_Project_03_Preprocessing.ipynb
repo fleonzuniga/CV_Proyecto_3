{
 "cells": [
  {
   "cell_type": "markdown",
   "id": "467e3cff",
   "metadata": {},
   "source": [
    "## Computer Vision\n",
    "\n",
    "# Project 03\n",
    "\n",
    "#### Preprocessing"
   ]
  },
  {
   "cell_type": "markdown",
   "id": "43573146",
   "metadata": {},
   "source": [
    "Import libraries."
   ]
  },
  {
   "cell_type": "code",
   "execution_count": 1,
   "id": "1f80ee17",
   "metadata": {},
   "outputs": [],
   "source": [
    "import os\n",
    "import time\n",
    "import numpy as np\n",
    "import cv2 as cv\n",
    "import matplotlib.pyplot as plt\n",
    "import matplotlib.animation as animation\n",
    "from GoDec import GoDecFast"
   ]
  },
  {
   "cell_type": "markdown",
   "id": "be231cc5",
   "metadata": {},
   "source": [
    "Read dataset, resize the images, create input matrix X, and create CSV file."
   ]
  },
  {
   "cell_type": "code",
   "execution_count": 2,
   "id": "f4ca604d",
   "metadata": {},
   "outputs": [
    {
     "name": "stdout",
     "output_type": "stream",
     "text": [
      "Read data execution time: 44.116095781326294s\n"
     ]
    }
   ],
   "source": [
    "t0 = time.time()\n",
    "\n",
    "X = []\n",
    "scale_percent = 10/100\n",
    "cd = '../../../../'\n",
    "input_directory = 'Multimedia/Datasets/Human Actions/UoL 3D Continuous Social Activity Dataset/'\n",
    "output_directory = 'Multimedia/Datasets/Human Actions/Dataset/'\n",
    "video = 'Video_01'\n",
    "input_path = cd + input_directory + video + '/'\n",
    "output_path = cd + output_directory + video + '/'\n",
    "csvfile = video + '_gray.csv'\n",
    "f = open(output_path+csvfile,'w')\n",
    "output_path = output_path + 'Gray/'\n",
    "\n",
    "filenames = os.listdir(input_path)\n",
    "for i,filename in enumerate(sorted(filenames)):\n",
    "    img = cv.imread(input_path+filename,cv.IMREAD_GRAYSCALE)\n",
    "    width = int(img.shape[1]*scale_percent)\n",
    "    height = int(img.shape[0]*scale_percent)\n",
    "    dim = (width,height)\n",
    "    img = cv.resize(img,dim,interpolation = cv.INTER_AREA)\n",
    "    cv.imwrite(output_path+filename,img)\n",
    "    f.write(output_path+filename)\n",
    "    f.write(\",\")\n",
    "    f.write(video)\n",
    "    f.write(\",\")\n",
    "    f.write(\"\\n\")\n",
    "    X.append(img.flatten())\n",
    "\n",
    "X = np.array(X).T\n",
    "f.close()\n",
    "\n",
    "t1 = time.time()\n",
    "print(\"Read data execution time: \" + str(t1 - t0) + \"s\")"
   ]
  },
  {
   "cell_type": "markdown",
   "id": "8a1c6edd",
   "metadata": {},
   "source": [
    "Compute GoDec"
   ]
  },
  {
   "cell_type": "code",
   "execution_count": 3,
   "id": "aa006436",
   "metadata": {},
   "outputs": [
    {
     "name": "stdout",
     "output_type": "stream",
     "text": [
      "GoDec execution time: 8.341811180114746s\n"
     ]
    }
   ],
   "source": [
    "rank    = 1;\n",
    "card    = np.prod(X.shape);\n",
    "power   = 1;\n",
    "epsilon = 0.001;\n",
    "\n",
    "t0 = time.time()\n",
    "L,S,E = GoDecFast(X,rank,card,power,epsilon)\n",
    "t1 = time.time()\n",
    "print(\"GoDec execution time: \" + str(t1 - t0) + \"s\")"
   ]
  },
  {
   "cell_type": "markdown",
   "id": "1b3db514",
   "metadata": {},
   "source": [
    "Apply threshold and normalize sparse matrix."
   ]
  },
  {
   "cell_type": "code",
   "execution_count": 4,
   "id": "18eaea49",
   "metadata": {},
   "outputs": [
    {
     "name": "stdout",
     "output_type": "stream",
     "text": [
      "Threshold and normalize execution time: 2.127124786376953s\n"
     ]
    }
   ],
   "source": [
    "t0 = time.time()\n",
    "\n",
    "Min = min(S.flatten())\n",
    "Max= max(S.flatten())\n",
    "s = np.where(np.logical_and(S>=0,S<=Max),0,S)\n",
    "s = cv.normalize(s,None,0,255,cv.NORM_MINMAX,cv.CV_8U)\n",
    "\n",
    "t1 = time.time()\n",
    "print(\"Threshold and normalize execution time: \" + str(t1 - t0) + \"s\")"
   ]
  },
  {
   "cell_type": "markdown",
   "id": "74ce0f95",
   "metadata": {},
   "source": [
    "Create GoDec sparse matrix video and sparse matrix dataset."
   ]
  },
  {
   "cell_type": "code",
   "execution_count": 5,
   "id": "65a256eb",
   "metadata": {},
   "outputs": [
    {
     "name": "stdout",
     "output_type": "stream",
     "text": [
      "Write data execution time: 0.2778933048248291s\n"
     ]
    }
   ],
   "source": [
    "cd = '../../../../'\n",
    "output_directory = 'Multimedia/Datasets/Human Actions/Dataset/'\n",
    "#video = 'Video_01'\n",
    "output_path = cd + output_directory + video + '/'\n",
    "csvfile = video + '_godec.csv'\n",
    "f = open(output_path+csvfile,'w')\n",
    "output_path = output_path + 'GoDec/'\n",
    "\n",
    "t0 = time.time()\n",
    "\n",
    "#fig = plt.figure()\n",
    "#MP4 = []\n",
    "for i in range(X.shape[1]):\n",
    "    x = np.array(s[:,i])\n",
    "    n_img = x.reshape(height,width)\n",
    "    \n",
    "    filename = str(i) + \".png\"\n",
    "    cv.imwrite(output_path+filename,n_img)\n",
    "    f.write(output_path+filename)\n",
    "    f.write(\",\")\n",
    "    f.write(video)\n",
    "    f.write(\",\")\n",
    "    f.write(\"\\n\")\n",
    "    \n",
    "    #v = plt.imshow(n_img,cmap='gray',animated=True)\n",
    "    #MP4.append([v])\n",
    "\n",
    "#ani = animation.ArtistAnimation(fig,MP4,interval=50,blit=True,repeat_delay=1000)\n",
    "#ani.save('GoDec_Resulta_S.mp4')\n",
    "#plt.show()\n",
    "\n",
    "t1 = time.time()\n",
    "print(\"Write data execution time: \" + str(t1 - t0) + \"s\")"
   ]
  },
  {
   "cell_type": "code",
   "execution_count": null,
   "id": "b0488fe9",
   "metadata": {},
   "outputs": [],
   "source": []
  },
  {
   "cell_type": "code",
   "execution_count": null,
   "id": "dad31a2a",
   "metadata": {},
   "outputs": [],
   "source": []
  },
  {
   "cell_type": "code",
   "execution_count": null,
   "id": "3e5df781",
   "metadata": {},
   "outputs": [],
   "source": []
  }
 ],
 "metadata": {
  "kernelspec": {
   "display_name": "Python 3 (ipykernel)",
   "language": "python",
   "name": "python3"
  },
  "language_info": {
   "codemirror_mode": {
    "name": "ipython",
    "version": 3
   },
   "file_extension": ".py",
   "mimetype": "text/x-python",
   "name": "python",
   "nbconvert_exporter": "python",
   "pygments_lexer": "ipython3",
   "version": "3.9.7"
  }
 },
 "nbformat": 4,
 "nbformat_minor": 5
}
